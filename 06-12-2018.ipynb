{
 "cells": [
  {
   "cell_type": "markdown",
   "metadata": {},
   "source": [
    "# Day 6"
   ]
  },
  {
   "cell_type": "code",
   "execution_count": 1,
   "metadata": {},
   "outputs": [],
   "source": [
    "from aocd import get_data\n",
    "from collections import defaultdict\n",
    "from itertools import product, repeat\n",
    "data = [tuple([int(x) for x in line.split(', ')]) for line in get_data(day=6).split('\\n')]"
   ]
  },
  {
   "cell_type": "markdown",
   "metadata": {},
   "source": [
    "# --- Day 6: Chronal Coordinates ---\n",
    "\n",
    "The device on your wrist beeps several times, and once again you feel like you're falling.\n",
    "\n",
    "\"Situation critical,\" the device announces. \"Destination indeterminate. Chronal interference detected. Please specify new target coordinates.\"\n",
    "\n",
    "The device then produces a list of coordinates (your puzzle input). Are they places it thinks are safe or dangerous? It recommends you check manual page 729. The Elves did not give you a manual.\n",
    "\n",
    "If they're dangerous, maybe you can minimize the danger by finding the coordinate that gives the largest distance from the other points.\n",
    "\n",
    "Using only the Manhattan distance, determine the area around each coordinate by counting the number of integer X,Y locations that are closest to that coordinate (and aren't tied in distance to any other coordinate).\n",
    "\n",
    "Your goal is to find the size of the largest area that isn't infinite. For example, consider the following list of coordinates:\n",
    "\n",
    "```\n",
    "1, 1\n",
    "1, 6\n",
    "8, 3\n",
    "3, 4\n",
    "5, 5\n",
    "8, 9\n",
    "```\n",
    "\n",
    "If we name these coordinates A through F, we can draw them on a grid, putting 0,0 at the top left:\n",
    "\n",
    "```\n",
    "..........\n",
    ".A........\n",
    "..........\n",
    "........C.\n",
    "...D......\n",
    ".....E....\n",
    ".B........\n",
    "..........\n",
    "..........\n",
    "........F.\n",
    "```\n",
    "\n",
    "This view is partial - the actual grid extends infinitely in all directions. Using the Manhattan distance, each location's closest coordinate can be determined, shown here in lowercase:\n",
    "\n",
    "```\n",
    "aaaaa.cccc\n",
    "aAaaa.cccc\n",
    "aaaddecccc\n",
    "aadddeccCc\n",
    "..dDdeeccc\n",
    "bb.deEeecc\n",
    "bBb.eeee..\n",
    "bbb.eeefff\n",
    "bbb.eeffff\n",
    "bbb.ffffFf\n",
    "```\n",
    "\n",
    "Locations shown as . are equally far from two or more coordinates, and so they don't count as being closest to any.\n",
    "\n",
    "In this example, the areas of coordinates A, B, C, and F are infinite - while not shown here, their areas extend forever outside the visible grid. However, the areas of coordinates D and E are finite: D is closest to 9 locations, and E is closest to 17 (both including the coordinate's location itself). Therefore, in this example, the size of the largest area is 17.\n",
    "\n",
    "What is the size of the largest area that isn't infinite?"
   ]
  },
  {
   "cell_type": "code",
   "execution_count": 2,
   "metadata": {},
   "outputs": [],
   "source": [
    "min_x = min(x for x, _ in data)\n",
    "min_y = min(y for _, y in data)\n",
    "max_x = max(x for x, _ in data)\n",
    "max_y = max(y for _, y in data)\n",
    "\n",
    "manhattan = lambda c1, c2: abs(c1[0] - c2[0]) + abs(c1[1] - c2[1])\n",
    "\n",
    "def closest(cell):\n",
    "    closest_distance = min(manhattan(source, cell) for source in data)\n",
    "    closest_points = [index for index, source in enumerate(data) if manhattan(source, cell) == closest_distance]\n",
    "    return closest_points[0] if len(closest_points) == 1 else None\n",
    "\n",
    "areas = dict((cell, closest(cell)) for cell in product(range(min_x, max_x + 1), range(min_y , max_y + 1)))"
   ]
  },
  {
   "cell_type": "code",
   "execution_count": 3,
   "metadata": {},
   "outputs": [],
   "source": [
    "keys = list(range(len(data)))\n",
    "edge_cells = (\n",
    "    list(zip(range(min_x, max_x + 1), repeat(min_y))) + \n",
    "    list(zip(range(min_x, max_x + 1), repeat(max_y))) + \n",
    "    list(zip(repeat(min_x), range(min_y, max_y + 1))) + \n",
    "    list(zip(repeat(max_x), range(min_y, max_y + 1))) \n",
    ")\n",
    "\n",
    "infini_keys = set(areas[cell] for cell in edge_cells)"
   ]
  },
  {
   "cell_type": "code",
   "execution_count": 4,
   "metadata": {},
   "outputs": [],
   "source": [
    "area_counts = [list(areas.values()).count(key) for key in keys if key not in infini_keys]"
   ]
  },
  {
   "cell_type": "code",
   "execution_count": 5,
   "metadata": {},
   "outputs": [
    {
     "data": {
      "text/plain": [
       "3687"
      ]
     },
     "execution_count": 5,
     "metadata": {},
     "output_type": "execute_result"
    }
   ],
   "source": [
    "max(area_counts)"
   ]
  },
  {
   "cell_type": "markdown",
   "metadata": {},
   "source": [
    "# --- Part Two ---\n",
    "On the other hand, if the coordinates are safe, maybe the best you can do is try to find a region near as many coordinates as possible.\n",
    "\n",
    "For example, suppose you want the sum of the Manhattan distance to all of the coordinates to be less than 32. For each location, add up the distances to all of the given coordinates; if the total of those distances is less than 32, that location is within the desired region. Using the same coordinates as above, the resulting region looks like this:\n",
    "```\n",
    "..........\n",
    ".A........\n",
    "..........\n",
    "...###..C.\n",
    "..#D###...\n",
    "..###E#...\n",
    ".B.###....\n",
    "..........\n",
    "..........\n",
    "........F.\n",
    "```\n",
    "In particular, consider the highlighted location 4,3 located at the top middle of the region. Its calculation is as follows, where abs() is the absolute value function:\n",
    "\n",
    "- Distance to coordinate A: abs(4-1) + abs(3-1) =  5\n",
    "- Distance to coordinate B: abs(4-1) + abs(3-6) =  6\n",
    "- Distance to coordinate C: abs(4-8) + abs(3-3) =  4\n",
    "- Distance to coordinate D: abs(4-3) + abs(3-4) =  2\n",
    "- Distance to coordinate E: abs(4-5) + abs(3-5) =  3\n",
    "- Distance to coordinate F: abs(4-8) + abs(3-9) = 10\n",
    "- Total distance: 5 + 6 + 4 + 2 + 3 + 10 = 30\n",
    "\n",
    "Because the total distance to all coordinates (30) is less than 32, the location is within the region.\n",
    "\n",
    "This region, which also includes coordinates D and E, has a total size of 16.\n",
    "\n",
    "Your actual region will need to be much larger than this example, though, instead including all locations with a total distance of less than 10000.\n",
    "\n",
    "What is the size of the region containing all locations which have a total distance to all given coordinates of less than 10000?"
   ]
  },
  {
   "cell_type": "code",
   "execution_count": 6,
   "metadata": {},
   "outputs": [
    {
     "data": {
      "text/plain": [
       "50"
      ]
     },
     "execution_count": 6,
     "metadata": {},
     "output_type": "execute_result"
    }
   ],
   "source": [
    "total_distance = lambda cell: sum(manhattan(cell, source) for source in data)\n",
    "len(data)"
   ]
  },
  {
   "cell_type": "code",
   "execution_count": 7,
   "metadata": {},
   "outputs": [
    {
     "data": {
      "text/plain": [
       "40134"
      ]
     },
     "execution_count": 7,
     "metadata": {},
     "output_type": "execute_result"
    }
   ],
   "source": [
    "grid_cells = list(product(range(min_x - 50, max_x + 51), range(min_y - 50, max_y + 51)))\n",
    "sum(1 for cell in grid_cells if total_distance(cell) < 10000)"
   ]
  },
  {
   "cell_type": "code",
   "execution_count": null,
   "metadata": {},
   "outputs": [],
   "source": []
  }
 ],
 "metadata": {
  "kernelspec": {
   "display_name": "Python 3",
   "language": "python",
   "name": "python3"
  },
  "language_info": {
   "codemirror_mode": {
    "name": "ipython",
    "version": 3
   },
   "file_extension": ".py",
   "mimetype": "text/x-python",
   "name": "python",
   "nbconvert_exporter": "python",
   "pygments_lexer": "ipython3",
   "version": "3.6.7"
  }
 },
 "nbformat": 4,
 "nbformat_minor": 2
}

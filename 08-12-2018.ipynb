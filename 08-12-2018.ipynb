{
 "cells": [
  {
   "cell_type": "code",
   "execution_count": 14,
   "metadata": {},
   "outputs": [],
   "source": [
    "from aocd import get_data\n",
    "data = list(map(int, get_data(day=8).split()))"
   ]
  },
  {
   "cell_type": "markdown",
   "metadata": {},
   "source": [
    "# --- Day 8: Memory Maneuver ---\n",
    "The sleigh is much easier to pull than you'd expect for something its weight. Unfortunately, neither you nor the Elves know which way the North Pole is from here.\n",
    "\n",
    "You check your wrist device for anything that might help. It seems to have some kind of navigation system! Activating the navigation system produces more bad news: \"Failed to start navigation system. Could not read software license file.\"\n",
    "\n",
    "The navigation system's license file consists of a list of numbers (your puzzle input). The numbers define a data structure which, when processed, produces some kind of tree that can be used to calculate the license number.\n",
    "\n",
    "The tree is made up of nodes; a single, outermost node forms the tree's root, and it contains all other nodes in the tree (or contains nodes that contain nodes, and so on).\n",
    "\n",
    "Specifically, a node consists of:\n",
    "\n",
    "- A header, which is always exactly two numbers:\n",
    "- The quantity of child nodes.\n",
    "- The quantity of metadata entries.\n",
    "- Zero or more child nodes (as specified in the header).\n",
    "- One or more metadata entries (as specified in the header).\n",
    "Each child node is itself a node that has its own header, child nodes, and metadata. For example:\n",
    "\n",
    "```\n",
    "2 3 0 3 10 11 12 1 1 0 1 99 2 1 1 2\n",
    "A----------------------------------\n",
    "    B----------- C-----------\n",
    "                     D-----\n",
    "```\n",
    "\n",
    "In this example, each node of the tree is also marked with an underline starting with a letter for easier identification. In it, there are four nodes:\n",
    "\n",
    "- A, which has 2 child nodes (B, C) and 3 metadata entries (1, 1, 2).\n",
    "- B, which has 0 child nodes and 3 metadata entries (10, 11, 12).\n",
    "- C, which has 1 child node (D) and 1 metadata entry (2).\n",
    "- D, which has 0 child nodes and 1 metadata entry (99).\n",
    "\n",
    "The first check done on the license file is to simply add up all of the metadata entries. In this example, that sum is 1+1+2+10+11+12+2+99=138.\n",
    "\n",
    "What is the sum of all metadata entries?"
   ]
  },
  {
   "cell_type": "code",
   "execution_count": 9,
   "metadata": {},
   "outputs": [
    {
     "data": {
      "text/plain": [
       "45868"
      ]
     },
     "execution_count": 9,
     "metadata": {},
     "output_type": "execute_result"
    }
   ],
   "source": [
    "def takedrop(data, n):\n",
    "    return data[:n], data[n:]\n",
    "\n",
    "# Returns tuple ((metadata, children), rest, metadata_sum)\n",
    "def construct_tree(data):\n",
    "    children, metadata_count, *rest = data\n",
    "    child_trees = []\n",
    "    metadata_sum = 0\n",
    "    for _ in range(children):\n",
    "        child_tree, rest, child_metadata_sum = construct_tree(rest)\n",
    "        child_trees.append(child_tree)\n",
    "        metadata_sum += child_metadata_sum\n",
    "    metadata, rest = takedrop(rest, metadata_count)\n",
    "    return ((tuple(child_trees), metadata), rest, sum(metadata) + metadata_sum)\n",
    "\n",
    "construct_tree(data)[-1]"
   ]
  },
  {
   "cell_type": "markdown",
   "metadata": {},
   "source": [
    "## --- Part Two ---\n",
    "The second check is slightly more complicated: you need to find the value of the root node (A in the example above).\n",
    "\n",
    "The value of a node depends on whether it has child nodes.\n",
    "\n",
    "If a node has no child nodes, its value is the sum of its metadata entries. So, the value of node B is 10+11+12=33, and the value of node D is 99.\n",
    "\n",
    "However, if a node does have child nodes, the metadata entries become indexes which refer to those child nodes. A metadata entry of 1 refers to the first child node, 2 to the second, 3 to the third, and so on. The value of this node is the sum of the values of the child nodes referenced by the metadata entries. If a referenced child node does not exist, that reference is skipped. A child node can be referenced multiple time and counts each time it is referenced. A metadata entry of 0 does not refer to any child node.\n",
    "\n",
    "For example, again using the above nodes:\n",
    "\n",
    "- Node C has one metadata entry, 2. Because node C has only one child node, 2 references a child node which does not exist, and so the value of node C is 0.\n",
    "- Node A has three metadata entries: 1, 1, and 2. The 1 references node A's first child node, B, and the 2 references node A's second child node, C. Because node B has a value of 33 and node C has a value of 0, the value of node A is 33+33+0=66.\n",
    "\n",
    "So, in this example, the value of the root node is 66.\n",
    "\n",
    "What is the value of the root node?"
   ]
  },
  {
   "cell_type": "code",
   "execution_count": 13,
   "metadata": {},
   "outputs": [
    {
     "data": {
      "text/plain": [
       "19724"
      ]
     },
     "execution_count": 13,
     "metadata": {},
     "output_type": "execute_result"
    }
   ],
   "source": [
    "tree, _, _ = construct_tree(data)\n",
    "def value(tree):\n",
    "    (children, metadata) = tree\n",
    "    if len(children) == 0: \n",
    "        return sum(metadata)\n",
    "    return sum(value(children[index - 1]) for index in metadata if index > 0 and index <= len(children))\n",
    "\n",
    "value(tree)"
   ]
  }
 ],
 "metadata": {
  "kernelspec": {
   "display_name": "Python 3",
   "language": "python",
   "name": "python3"
  },
  "language_info": {
   "codemirror_mode": {
    "name": "ipython",
    "version": 3
   },
   "file_extension": ".py",
   "mimetype": "text/x-python",
   "name": "python",
   "nbconvert_exporter": "python",
   "pygments_lexer": "ipython3",
   "version": "3.6.7"
  }
 },
 "nbformat": 4,
 "nbformat_minor": 2
}

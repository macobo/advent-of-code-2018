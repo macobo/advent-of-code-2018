{
 "cells": [
  {
   "cell_type": "code",
   "execution_count": 7,
   "metadata": {},
   "outputs": [
    {
     "data": {
      "text/plain": [
       "'468 players; last marble is worth 71843 points'"
      ]
     },
     "execution_count": 7,
     "metadata": {},
     "output_type": "execute_result"
    }
   ],
   "source": [
    "from aocd import get_data\n",
    "get_data(day=9)"
   ]
  },
  {
   "cell_type": "markdown",
   "metadata": {},
   "source": [
    "# --- Day 9: Marble Mania ---\n",
    "You talk to the Elves while you wait for your navigation system to initialize. To pass the time, they introduce you to their favorite marble game.\n",
    "\n",
    "The Elves play this game by taking turns arranging the marbles in a circle according to very particular rules. The marbles are numbered starting with 0 and increasing by 1 until every marble has a number.\n",
    "\n",
    "First, the marble numbered 0 is placed in the circle. At this point, while it contains only a single marble, it is still a circle: the marble is both clockwise from itself and counter-clockwise from itself. This marble is designated the current marble.\n",
    "\n",
    "Then, each Elf takes a turn placing the lowest-numbered remaining marble into the circle between the marbles that are 1 and 2 marbles clockwise of the current marble. (When the circle is large enough, this means that there is one marble between the marble that was just placed and the current marble.) The marble that was just placed then becomes the current marble.\n",
    "\n",
    "However, if the marble that is about to be placed has a number which is a multiple of 23, something entirely different happens. First, the current player keeps the marble they would have placed, adding it to their score. In addition, the marble 7 marbles counter-clockwise from the current marble is removed from the circle and also added to the current player's score. The marble located immediately clockwise of the marble that was removed becomes the new current marble.\n",
    "\n",
    "For example, suppose there are 9 players. After the marble with value 0 is placed in the middle, each player (shown in square brackets) takes a turn. The result of each of those turns would produce circles of marbles like this, where clockwise is to the right and the resulting current marble is in parentheses:\n",
    "```\n",
    "[-] (0)\n",
    "[1]  0 (1)\n",
    "[2]  0 (2) 1 \n",
    "[3]  0  2  1 (3)\n",
    "[4]  0 (4) 2  1  3 \n",
    "[5]  0  4  2 (5) 1  3 \n",
    "[6]  0  4  2  5  1 (6) 3 \n",
    "[7]  0  4  2  5  1  6  3 (7)\n",
    "[8]  0 (8) 4  2  5  1  6  3  7 \n",
    "[9]  0  8  4 (9) 2  5  1  6  3  7 \n",
    "[1]  0  8  4  9  2(10) 5  1  6  3  7 \n",
    "[2]  0  8  4  9  2 10  5(11) 1  6  3  7 \n",
    "[3]  0  8  4  9  2 10  5 11  1(12) 6  3  7 \n",
    "[4]  0  8  4  9  2 10  5 11  1 12  6(13) 3  7 \n",
    "[5]  0  8  4  9  2 10  5 11  1 12  6 13  3(14) 7 \n",
    "[6]  0  8  4  9  2 10  5 11  1 12  6 13  3 14  7(15)\n",
    "[7]  0(16) 8  4  9  2 10  5 11  1 12  6 13  3 14  7 15 \n",
    "[8]  0 16  8(17) 4  9  2 10  5 11  1 12  6 13  3 14  7 15 \n",
    "[9]  0 16  8 17  4(18) 9  2 10  5 11  1 12  6 13  3 14  7 15 \n",
    "[1]  0 16  8 17  4 18  9(19) 2 10  5 11  1 12  6 13  3 14  7 15 \n",
    "[2]  0 16  8 17  4 18  9 19  2(20)10  5 11  1 12  6 13  3 14  7 15 \n",
    "[3]  0 16  8 17  4 18  9 19  2 20 10(21) 5 11  1 12  6 13  3 14  7 15 \n",
    "[4]  0 16  8 17  4 18  9 19  2 20 10 21  5(22)11  1 12  6 13  3 14  7 15 \n",
    "[5]  0 16  8 17  4 18(19) 2 20 10 21  5 22 11  1 12  6 13  3 14  7 15 \n",
    "[6]  0 16  8 17  4 18 19  2(24)20 10 21  5 22 11  1 12  6 13  3 14  7 15 \n",
    "[7]  0 16  8 17  4 18 19  2 24 20(25)10 21  5 22 11  1 12  6 13  3 14  7 15\n",
    "```\n",
    "The goal is to be the player with the highest score after the last marble is used up. Assuming the example above ends after the marble numbered 25, the winning score is 23+9=32 (because player 5 kept marble 23 and removed marble 9, while no other player got any points in this very short example game).\n",
    "\n",
    "Here are a few more examples:\n",
    "\n",
    "- 10 players; last marble is worth 1618 points: high score is 8317\n",
    "- 13 players; last marble is worth 7999 points: high score is 146373\n",
    "- 17 players; last marble is worth 1104 points: high score is 2764\n",
    "- 21 players; last marble is worth 6111 points: high score is 54718\n",
    "- 30 players; last marble is worth 5807 points: high score is 37305\n",
    "\n",
    "What is the winning Elf's score?"
   ]
  },
  {
   "cell_type": "code",
   "execution_count": 2,
   "metadata": {},
   "outputs": [],
   "source": [
    "def place_marble(board, value, current_position):\n",
    "    next_position = (current_position + 2) % (len(board))\n",
    "    if next_position == 0: next_position = len(board)\n",
    "    \n",
    "    return (board[:next_position] + [value] + board[next_position:], next_position, 0)\n",
    "\n",
    "def take_23(board, value, current_position):\n",
    "    from_beginning = min(current_position, 7)\n",
    "    removed_marble_index = (current_position - 7) % len(board)\n",
    "    \n",
    "    points = value + board[removed_marble_index]\n",
    "    return (board[:removed_marble_index] + board[removed_marble_index + 1:], removed_marble_index, points)\n",
    "        \n",
    "\n",
    "def generate_moves():\n",
    "    board, current_position, value = [0], 0, 0\n",
    "    while True:\n",
    "        value += 1\n",
    "        action = take_23 if value % 23 == 0 else place_marble\n",
    "        board, current_position, points = action(board, value, current_position)\n",
    "        yield points"
   ]
  },
  {
   "cell_type": "code",
   "execution_count": 3,
   "metadata": {},
   "outputs": [],
   "source": [
    "def player_points(players, max_value):\n",
    "    points = defaultdict(int)\n",
    "    for move, point_gain in zip(range(1, max_value + 1), generate_moves()):\n",
    "        points[move % players] += point_gain\n",
    "    return max(points.values())"
   ]
  },
  {
   "cell_type": "code",
   "execution_count": 4,
   "metadata": {},
   "outputs": [
    {
     "data": {
      "text/plain": [
       "385820"
      ]
     },
     "execution_count": 4,
     "metadata": {},
     "output_type": "execute_result"
    }
   ],
   "source": [
    "player_points(468, 71843)"
   ]
  },
  {
   "cell_type": "markdown",
   "metadata": {},
   "source": [
    "# --- Part Two ---\n",
    "Amused by the speed of your answer, the Elves are curious:\n",
    "\n",
    "What would the new winning Elf's score be if the number of the last marble were 100 times larger?"
   ]
  },
  {
   "cell_type": "code",
   "execution_count": 5,
   "metadata": {},
   "outputs": [],
   "source": [
    "class LinkedListNode:\n",
    "    def __init__(self, value):\n",
    "        self.value = value\n",
    "        self.next_node = None\n",
    "        self.previous_node = None\n",
    "        \n",
    "    def pop(self):\n",
    "        self.previous_node.next_node = self.next_node\n",
    "        self.next_node.previous_node = self.previous_node\n",
    "        return self.next_node\n",
    "        \n",
    "    def append(self, new_node):\n",
    "        new_node.previous_node = self\n",
    "        new_node.next_node = self.next_node\n",
    "        self.next_node.previous_node = new_node\n",
    "        self.next_node = new_node\n",
    "        return new_node\n",
    "    \n",
    "    def backwards(self, times):\n",
    "        node = self\n",
    "        for _ in range(times): \n",
    "            node = node.previous_node\n",
    "        return node\n",
    "    \n",
    "    def as_list(self):\n",
    "        assert self.value == 0\n",
    "        result, node = [self.value], self.next_node\n",
    "        while node.value != 0:\n",
    "            result.append(node.value)\n",
    "            node = node.next_node\n",
    "        return result\n",
    "        \n",
    "    @staticmethod\n",
    "    def start_node():\n",
    "        node = LinkedListNode(0)\n",
    "        node.next_node = node\n",
    "        node.previous_node = node\n",
    "        return node\n",
    "    \n",
    "    def __repr__(self):\n",
    "        return \"LinkedListNode({})\".format(self.value)\n",
    "        \n",
    "def place_marble(node, value):\n",
    "    return (node.next_node.append(LinkedListNode(value)), 0)\n",
    "\n",
    "def take_23(node, value):\n",
    "    removed_node = node.backwards(7)\n",
    "    return (removed_node.pop(), removed_node.value + value)\n",
    "\n",
    "def generate_moves():\n",
    "    node, value = LinkedListNode.start_node(), 0\n",
    "    \n",
    "    while True:\n",
    "        value += 1\n",
    "        action = take_23 if value % 23 == 0 else place_marble\n",
    "        node, points = action(node, value)\n",
    "        yield points\n",
    "        "
   ]
  },
  {
   "cell_type": "code",
   "execution_count": 6,
   "metadata": {},
   "outputs": [
    {
     "data": {
      "text/plain": [
       "3156297594"
      ]
     },
     "execution_count": 6,
     "metadata": {},
     "output_type": "execute_result"
    }
   ],
   "source": [
    "def player_points(players, max_value):\n",
    "    points = defaultdict(int)\n",
    "    for move, point_gain in zip(range(1, max_value + 1), generate_moves()):\n",
    "        points[move % players] += point_gain\n",
    "    return max(points.values())\n",
    "\n",
    "player_points(468, 7184300)"
   ]
  }
 ],
 "metadata": {
  "kernelspec": {
   "display_name": "Python 3",
   "language": "python",
   "name": "python3"
  },
  "language_info": {
   "codemirror_mode": {
    "name": "ipython",
    "version": 3
   },
   "file_extension": ".py",
   "mimetype": "text/x-python",
   "name": "python",
   "nbconvert_exporter": "python",
   "pygments_lexer": "ipython3",
   "version": "3.6.7"
  }
 },
 "nbformat": 4,
 "nbformat_minor": 2
}

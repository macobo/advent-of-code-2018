{
 "cells": [
  {
   "cell_type": "markdown",
   "metadata": {},
   "source": [
    "# Day 4"
   ]
  },
  {
   "cell_type": "code",
   "execution_count": 30,
   "metadata": {},
   "outputs": [],
   "source": [
    "from aocd import get_data\n",
    "from collections import Counter, defaultdict\n",
    "import re\n",
    "data = get_data(day=4).split('\\n')\n",
    "data = list(sorted(data))"
   ]
  },
  {
   "cell_type": "markdown",
   "metadata": {},
   "source": [
    "--- Day 4: Repose Record ---\n",
    "\n",
    "You've sneaked into another supply closet - this time, it's across from the prototype suit manufacturing lab. You need to sneak inside and fix the issues with the suit, but there's a guard stationed outside the lab, so this is as close as you can safely get.\n",
    "\n",
    "As you search the closet for anything that might help, you discover that you're not the first person to want to sneak in. Covering the walls, someone has spent an hour starting every midnight for the past few months secretly observing this guard post! They've been writing down the ID of the one guard on duty that night - the Elves seem to have decided that one guard was enough for the overnight shift - as well as when they fall asleep or wake up while at their post (your puzzle input).\n",
    "\n",
    "For example, consider the following records, which have already been organized into chronological order:\n",
    "\n",
    "```\n",
    "[1518-11-01 00:00] Guard #10 begins shift\n",
    "[1518-11-01 00:05] falls asleep\n",
    "[1518-11-01 00:25] wakes up\n",
    "[1518-11-01 00:30] falls asleep\n",
    "[1518-11-01 00:55] wakes up\n",
    "[1518-11-01 23:58] Guard #99 begins shift\n",
    "[1518-11-02 00:40] falls asleep\n",
    "[1518-11-02 00:50] wakes up\n",
    "[1518-11-03 00:05] Guard #10 begins shift\n",
    "[1518-11-03 00:24] falls asleep\n",
    "[1518-11-03 00:29] wakes up\n",
    "[1518-11-04 00:02] Guard #99 begins shift\n",
    "[1518-11-04 00:36] falls asleep\n",
    "[1518-11-04 00:46] wakes up\n",
    "[1518-11-05 00:03] Guard #99 begins shift\n",
    "[1518-11-05 00:45] falls asleep\n",
    "[1518-11-05 00:55] wakes up\n",
    "```\n",
    "\n",
    "Timestamps are written using year-month-day hour:minute format. The guard falling asleep or waking up is always the one whose shift most recently started. Because all asleep/awake times are during the midnight hour (00:00 - 00:59), only the minute portion (00 - 59) is relevant for those events.\n",
    "\n",
    "Visually, these records show that the guards are asleep at these times:\n",
    "\n",
    "```\n",
    "Date   ID   Minute\n",
    "            000000000011111111112222222222333333333344444444445555555555\n",
    "            012345678901234567890123456789012345678901234567890123456789\n",
    "11-01  #10  .....####################.....#########################.....\n",
    "11-02  #99  ........................................##########..........\n",
    "11-03  #10  ........................#####...............................\n",
    "11-04  #99  ....................................##########..............\n",
    "11-05  #99  .............................................##########.....\n",
    "```\n",
    "\n",
    "The columns are Date, which shows the month-day portion of the relevant day; ID, which shows the guard on duty that day; and Minute, which shows the minutes during which the guard was asleep within the midnight hour. (The Minute column's header shows the minute's ten's digit in the first row and the one's digit in the second row.) Awake is shown as ., and asleep is shown as #.\n",
    "\n",
    "Note that guards count as asleep on the minute they fall asleep, and they count as awake on the minute they wake up. For example, because Guard #10 wakes up at 00:25 on 1518-11-01, minute 25 is marked as awake.\n",
    "\n",
    "If you can figure out the guard most likely to be asleep at a specific time, you might be able to trick that guard into working tonight so you can have the best chance of sneaking in. You have two strategies for choosing the best guard/minute combination.\n",
    "\n",
    "Strategy 1: Find the guard that has the most minutes asleep. What minute does that guard spend asleep the most?\n",
    "\n",
    "In the example above, Guard #10 spent the most minutes asleep, a total of 50 minutes (20+25+5), while Guard #99 only slept for a total of 30 minutes (10+10+10). Guard #10 was asleep most during minute 24 (on two days, whereas any other minute the guard was asleep was only seen on one day).\n",
    "\n",
    "While this example listed the entries in chronological order, your entries are in the order you found them. You'll need to organize them before they can be analyzed.\n",
    "\n",
    "What is the ID of the guard you chose multiplied by the minute you chose? (In the above example, the answer would be 10 * 24 = 240.)"
   ]
  },
  {
   "cell_type": "code",
   "execution_count": 31,
   "metadata": {},
   "outputs": [],
   "source": [
    "timestamp_regex = r'\\[(\\d+)-(\\d+)-(\\d+) (\\d+):(\\d+)\\]'"
   ]
  },
  {
   "cell_type": "code",
   "execution_count": 32,
   "metadata": {},
   "outputs": [],
   "source": [
    "timestamp = lambda row: list(map(int, re.findall(timestamp_regex, row)[0]))"
   ]
  },
  {
   "cell_type": "code",
   "execution_count": 33,
   "metadata": {},
   "outputs": [],
   "source": [
    "timestamped_data = [(row, timestamp(row)) for row in data]"
   ]
  },
  {
   "cell_type": "code",
   "execution_count": 23,
   "metadata": {},
   "outputs": [],
   "source": [
    "time = lambda ts: ts[4]\n",
    "current_time = None\n",
    "\n",
    "sleepers = defaultdict(list)\n",
    "sleep_time = defaultdict(int)\n",
    "guards = set()\n",
    "\n",
    "def add_sleep(guard, start_timestamp, end_timestamp):\n",
    "    for minute in range(time(start_timestamp), time(end_timestamp)):\n",
    "        sleepers[minute].append(guard)\n",
    "        sleep_time[guard] += 1\n",
    "\n",
    "for command, timestamp in timestamped_data:\n",
    "    if 'begins' in command:\n",
    "        guard = command[25:30]\n",
    "        guards.add(guard)\n",
    "    elif 'asleep' in command:\n",
    "        current_time = timestamp\n",
    "    elif 'wakes' in command:\n",
    "        add_sleep(guard, current_time, timestamp)"
   ]
  },
  {
   "cell_type": "code",
   "execution_count": 24,
   "metadata": {},
   "outputs": [
    {
     "data": {
      "text/plain": [
       "(434, '#3299')"
      ]
     },
     "execution_count": 24,
     "metadata": {},
     "output_type": "execute_result"
    }
   ],
   "source": [
    "times, guard = max((minutes, guard) for guard, minutes in sleep_time.items())\n",
    "times, guard"
   ]
  },
  {
   "cell_type": "code",
   "execution_count": 25,
   "metadata": {},
   "outputs": [
    {
     "data": {
      "text/plain": [
       "(13, 46)"
      ]
     },
     "execution_count": 25,
     "metadata": {},
     "output_type": "execute_result"
    }
   ],
   "source": [
    "max((sleepers[minute].count(guard), minute) for minute in range(60))"
   ]
  },
  {
   "cell_type": "code",
   "execution_count": 26,
   "metadata": {},
   "outputs": [
    {
     "data": {
      "text/plain": [
       "151754"
      ]
     },
     "execution_count": 26,
     "metadata": {},
     "output_type": "execute_result"
    }
   ],
   "source": [
    "3299 * 46"
   ]
  },
  {
   "cell_type": "markdown",
   "metadata": {},
   "source": [
    "--- Part Two ---\n",
    "\n",
    "Strategy 2: Of all guards, which guard is most frequently asleep on the same minute?\n",
    "\n",
    "In the example above, Guard #99 spent minute 45 asleep more than any other guard or minute - three times in total. (In all other cases, any guard spent any minute asleep at most twice.)\n",
    "\n",
    "What is the ID of the guard you chose multiplied by the minute you chose? (In the above example, the answer would be 99 * 45 = 4455.)"
   ]
  },
  {
   "cell_type": "code",
   "execution_count": 27,
   "metadata": {},
   "outputs": [
    {
     "data": {
      "text/plain": [
       "(15, 24, '#829 ')"
      ]
     },
     "execution_count": 27,
     "metadata": {},
     "output_type": "execute_result"
    }
   ],
   "source": [
    "max((sleepers[minute].count(guard), minute, guard) for minute in range(60) for guard in guards)"
   ]
  },
  {
   "cell_type": "code",
   "execution_count": 28,
   "metadata": {},
   "outputs": [
    {
     "data": {
      "text/plain": [
       "19896"
      ]
     },
     "execution_count": 28,
     "metadata": {},
     "output_type": "execute_result"
    }
   ],
   "source": [
    "829 * 24"
   ]
  }
 ],
 "metadata": {
  "kernelspec": {
   "display_name": "Python 3",
   "language": "python",
   "name": "python3"
  },
  "language_info": {
   "codemirror_mode": {
    "name": "ipython",
    "version": 3
   },
   "file_extension": ".py",
   "mimetype": "text/x-python",
   "name": "python",
   "nbconvert_exporter": "python",
   "pygments_lexer": "ipython3",
   "version": "3.6.7"
  }
 },
 "nbformat": 4,
 "nbformat_minor": 2
}

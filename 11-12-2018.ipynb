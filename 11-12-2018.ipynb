{
 "cells": [
  {
   "cell_type": "code",
   "execution_count": 4,
   "metadata": {},
   "outputs": [],
   "source": [
    "from aocd import get_data\n",
    "serial_number = int(get_data(day=11))"
   ]
  },
  {
   "cell_type": "markdown",
   "metadata": {},
   "source": [
    "# --- Day 11: Chronal Charge ---\n",
    "You watch the Elves and their sleigh fade into the distance as they head toward the North Pole.\n",
    "\n",
    "Actually, you're the one fading. The falling sensation returns.\n",
    "\n",
    "The low fuel warning light is illuminated on your wrist-mounted device. Tapping it once causes it to project a hologram of the situation: a 300x300 grid of fuel cells and their current power levels, some negative. You're not sure what negative power means in the context of time travel, but it can't be good.\n",
    "\n",
    "Each fuel cell has a coordinate ranging from 1 to 300 in both the X (horizontal) and Y (vertical) direction. In X,Y notation, the top-left cell is 1,1, and the top-right cell is 300,1.\n",
    "\n",
    "The interface lets you select any 3x3 square of fuel cells. To increase your chances of getting to your destination, you decide to choose the 3x3 square with the largest total power.\n",
    "\n",
    "The power level in a given fuel cell can be found through the following process:\n",
    "\n",
    "- Find the fuel cell's rack ID, which is its X coordinate plus 10.\n",
    "- Begin with a power level of the rack ID times the Y coordinate.\n",
    "- Increase the power level by the value of the grid serial number (your puzzle input).\n",
    "- Set the power level to itself multiplied by the rack ID.\n",
    "- Keep only the hundreds digit of the power level (so 12345 becomes 3; numbers with no hundreds digit become 0).\n",
    "- Subtract 5 from the power level.\n",
    "\n",
    "For example, to find the power level of the fuel cell at 3,5 in a grid with serial number 8:\n",
    "\n",
    "- The rack ID is 3 + 10 = 13.\n",
    "- The power level starts at 13 * 5 = 65.\n",
    "- Adding the serial number produces 65 + 8 = 73.\n",
    "- Multiplying by the rack ID produces 73 * 13 = 949.\n",
    "- The hundreds digit of 949 is 9.\n",
    "- Subtracting 5 produces 9 - 5 = 4.\n",
    "- So, the power level of this fuel cell is 4.\n",
    "\n",
    "Here are some more example power levels:\n",
    "\n",
    "- Fuel cell at  122,79, grid serial number 57: power level -5.\n",
    "- Fuel cell at 217,196, grid serial number 39: power level  0.\n",
    "- Fuel cell at 101,153, grid serial number 71: power level  4.\n",
    "\n",
    "Your goal is to find the 3x3 square which has the largest total power. The square must be entirely within the 300x300 grid. Identify this square using the X,Y coordinate of its top-left fuel cell. For example:\n",
    "\n",
    "For grid serial number 18, the largest total 3x3 square has a top-left corner of 33,45 (with a total power of 29); these fuel cells appear in the middle of this 5x5 region:\n",
    "\n",
    "```\n",
    "-2  -4   4   4   4\n",
    "-4   4   4   4  -5\n",
    " 4   3   3   4  -4\n",
    " 1   1   2   4  -3\n",
    "-1   0   2  -5  -2\n",
    "```\n",
    "\n",
    "For grid serial number 42, the largest 3x3 square's top-left is 21,61 (with a total power of 30); they are in the middle of this region:\n",
    "\n",
    "```\n",
    "-3   4   2   2   2\n",
    "-4   4   3   3   4\n",
    "-5   3   3   4  -4\n",
    " 4   3   3   4  -3\n",
    " 3   3   3  -5  -1\n",
    "```\n",
    " \n",
    "What is the X,Y coordinate of the top-left fuel cell of the 3x3 square with the largest total power?"
   ]
  },
  {
   "cell_type": "code",
   "execution_count": 5,
   "metadata": {},
   "outputs": [
    {
     "data": {
      "text/plain": [
       "[4, -5]"
      ]
     },
     "execution_count": 5,
     "metadata": {},
     "output_type": "execute_result"
    }
   ],
   "source": [
    "from functools import lru_cache\n",
    "\n",
    "@lru_cache(maxsize=None)\n",
    "def power_level(serial_number, x, y):\n",
    "    rack = (x + 10)\n",
    "    return (rack * y + serial_number) * rack // 100 % 10 - 5\n",
    "\n",
    "[power_level(8, 3, 5), power_level(57, 122, 79)]"
   ]
  },
  {
   "cell_type": "code",
   "execution_count": 6,
   "metadata": {},
   "outputs": [],
   "source": [
    "from itertools import product\n",
    "\n",
    "region_power_level = lambda serial_number, sx, sy: \\\n",
    "    sum(power_level(serial_number, x, y) for x in range(sx, sx+3) for y in range(sy, sy + 3))\n",
    "\n",
    "best_corner = lambda serial_number: \\\n",
    "    max(product(range(1, 300), repeat = 2), key=lambda xy: region_power_level(serial_number, xy[0], xy[1]))"
   ]
  },
  {
   "cell_type": "code",
   "execution_count": 7,
   "metadata": {},
   "outputs": [
    {
     "data": {
      "text/plain": [
       "(235, 14)"
      ]
     },
     "execution_count": 7,
     "metadata": {},
     "output_type": "execute_result"
    }
   ],
   "source": [
    "best_corner(serial_number)"
   ]
  },
  {
   "cell_type": "markdown",
   "metadata": {},
   "source": [
    "## --- Part Two ---\n",
    "You discover a dial on the side of the device; it seems to let you select a square of any size, not just 3x3. Sizes from 1x1 to 300x300 are supported.\n",
    "\n",
    "Realizing this, you now must find the square of any size with the largest total power. Identify this square by including its size as a third parameter after the top-left coordinate: a 9x9 square with a top-left corner of 3,5 is identified as 3,5,9.\n",
    "\n",
    "For example:\n",
    "\n",
    "- For grid serial number 18, the largest total square (with a total power of 113) is 16x16 and has a top-left corner of 90,269, so its identifier is 90,269,16.\n",
    "- For grid serial number 42, the largest total square (with a total power of 119) is 12x12 and has a top-left corner of 232,251, so its identifier is 232,251,12.\n",
    "\n",
    "What is the X,Y,size identifier of the square with the largest total power?"
   ]
  },
  {
   "cell_type": "code",
   "execution_count": 15,
   "metadata": {},
   "outputs": [],
   "source": [
    "coordinates = lambda: product(range(1, 301), repeat = 2)\n",
    "make_grid = lambda serial: dict(((x, y), power_level(serial, x, y)) for x, y in coordinates())\n",
    "\n",
    "grid = make_grid(serial_number)\n",
    "\n",
    "@lru_cache(maxsize=None)\n",
    "def power_sum(x, y):\n",
    "    if x <= 0 or y <= 0: \n",
    "        return 0\n",
    "    return grid[(x, y)] + power_sum(x - 1, y) + power_sum(x, y - 1) - power_sum(x - 1, y - 1)\n",
    "\n",
    "region_power_level = lambda ax, ay, bx, by: \\\n",
    "    power_sum(bx, by) + power_sum(ax-1, ay-1) - power_sum(bx, ay-1) - power_sum(ax-1, by)"
   ]
  },
  {
   "cell_type": "code",
   "execution_count": 16,
   "metadata": {},
   "outputs": [
    {
     "data": {
      "text/plain": [
       "(237, 227, 14)"
      ]
     },
     "execution_count": 16,
     "metadata": {},
     "output_type": "execute_result"
    }
   ],
   "source": [
    "def unpacked_region_power_level(xysize):\n",
    "    x, y, size = xysize\n",
    "    return region_power_level(x, y, x + size - 1, y + size - 1)\n",
    "\n",
    "max(\n",
    "    ((x,y,size) for x, y in coordinates() for size in range(1, 300) if x + size <= 300 and y + size <= 300),\n",
    "    key=unpacked_region_power_level\n",
    ")"
   ]
  }
 ],
 "metadata": {
  "kernelspec": {
   "display_name": "Python 3",
   "language": "python",
   "name": "python3"
  },
  "language_info": {
   "codemirror_mode": {
    "name": "ipython",
    "version": 3
   },
   "file_extension": ".py",
   "mimetype": "text/x-python",
   "name": "python",
   "nbconvert_exporter": "python",
   "pygments_lexer": "ipython3",
   "version": "3.6.7"
  }
 },
 "nbformat": 4,
 "nbformat_minor": 2
}
